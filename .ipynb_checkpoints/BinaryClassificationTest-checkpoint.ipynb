{
 "cells": [
  {
   "cell_type": "code",
   "execution_count": 1,
   "metadata": {},
   "outputs": [
    {
     "name": "stderr",
     "output_type": "stream",
     "text": [
      "<string>:6: VisibleDeprecationWarning: Creating an ndarray from ragged nested sequences (which is a list-or-tuple of lists-or-tuples-or ndarrays with different lengths or shapes) is deprecated. If you meant to do this, you must specify 'dtype=object' when creating the ndarray\n",
      "/Users/michaelhyh/opt/anaconda3/envs/neuralNet/lib/python3.7/site-packages/tensorflow/python/keras/datasets/imdb.py:159: VisibleDeprecationWarning: Creating an ndarray from ragged nested sequences (which is a list-or-tuple of lists-or-tuples-or ndarrays with different lengths or shapes) is deprecated. If you meant to do this, you must specify 'dtype=object' when creating the ndarray\n",
      "  x_train, y_train = np.array(xs[:idx]), np.array(labels[:idx])\n",
      "/Users/michaelhyh/opt/anaconda3/envs/neuralNet/lib/python3.7/site-packages/tensorflow/python/keras/datasets/imdb.py:160: VisibleDeprecationWarning: Creating an ndarray from ragged nested sequences (which is a list-or-tuple of lists-or-tuples-or ndarrays with different lengths or shapes) is deprecated. If you meant to do this, you must specify 'dtype=object' when creating the ndarray\n",
      "  x_test, y_test = np.array(xs[idx:]), np.array(labels[idx:])\n"
     ]
    }
   ],
   "source": [
    "from keras.datasets import imdb\n",
    "(train_data, train_labels), (test_data, test_labels) = imdb.load_data(num_words=10000)"
   ]
  },
  {
   "cell_type": "code",
   "execution_count": 2,
   "metadata": {},
   "outputs": [
    {
     "name": "stdout",
     "output_type": "stream",
     "text": [
      "[1, 14, 22, 16, 43, 530, 973, 1622, 1385, 65, 458, 4468, 66, 3941, 4, 173, 36, 256, 5, 25, 100, 43, 838, 112, 50, 670, 2, 9, 35, 480, 284, 5, 150, 4, 172, 112, 167, 2, 336, 385, 39, 4, 172, 4536, 1111, 17, 546, 38, 13, 447, 4, 192, 50, 16, 6, 147, 2025, 19, 14, 22, 4, 1920, 4613, 469, 4, 22, 71, 87, 12, 16, 43, 530, 38, 76, 15, 13, 1247, 4, 22, 17, 515, 17, 12, 16, 626, 18, 2, 5, 62, 386, 12, 8, 316, 8, 106, 5, 4, 2223, 5244, 16, 480, 66, 3785, 33, 4, 130, 12, 16, 38, 619, 5, 25, 124, 51, 36, 135, 48, 25, 1415, 33, 6, 22, 12, 215, 28, 77, 52, 5, 14, 407, 16, 82, 2, 8, 4, 107, 117, 5952, 15, 256, 4, 2, 7, 3766, 5, 723, 36, 71, 43, 530, 476, 26, 400, 317, 46, 7, 4, 2, 1029, 13, 104, 88, 4, 381, 15, 297, 98, 32, 2071, 56, 26, 141, 6, 194, 7486, 18, 4, 226, 22, 21, 134, 476, 26, 480, 5, 144, 30, 5535, 18, 51, 36, 28, 224, 92, 25, 104, 4, 226, 65, 16, 38, 1334, 88, 12, 16, 283, 5, 16, 4472, 113, 103, 32, 15, 16, 5345, 19, 178, 32]\n"
     ]
    }
   ],
   "source": [
    "print(train_data[0])\n"
   ]
  },
  {
   "cell_type": "code",
   "execution_count": 3,
   "metadata": {},
   "outputs": [],
   "source": [
    "import numpy as np\n",
    "def vectorize_sequences(sequences, dimension=10000):\n",
    "    results = np.zeros((len(sequences),dimension))\n",
    "    for i, sequence in enumerate(sequences):\n",
    "        for word in sequence:\n",
    "            results[i, word]+=1.0\n",
    "            # changing this to results[i, word]=1.0 doesn't result in a dramatic reduction in performance because\n",
    "            # each word has low frequency of occurence and the more frequent words are normally neutral.\n",
    "    return results\n",
    "    "
   ]
  },
  {
   "cell_type": "code",
   "execution_count": 4,
   "metadata": {},
   "outputs": [],
   "source": [
    "vectorizedTrain = vectorize_sequences(train_data)\n",
    "vectorizedTest = vectorize_sequences(test_data)\n",
    "y_train = np.asarray(train_labels).astype('float64')\n",
    "y_test = np.asarray(test_labels).astype('float64')"
   ]
  },
  {
   "cell_type": "code",
   "execution_count": 5,
   "metadata": {},
   "outputs": [],
   "source": [
    "from keras import backend as K\n",
    "def expo_activation(x):\n",
    "    #return K.log(K.relu(x)+1)+3*(K.relu(x)+1)**0.3\n",
    "    return K.relu(-1000*K.exp(-0.001*x)+1000)\n"
   ]
  },
  {
   "cell_type": "code",
   "execution_count": 24,
   "metadata": {},
   "outputs": [],
   "source": [
    "from keras import models\n",
    "from keras import layers\n",
    "\n",
    "model = models.Sequential()\n",
    "model.add(layers.Dense(16, activation=expo_activation, input_shape=(10000,)))\n",
    "model.add(layers.Dense(8, activation=expo_activation, input_shape=(16,)))\n",
    "model.add(layers.Dense(1, activation='sigmoid', input_shape=(8,)))"
   ]
  },
  {
   "cell_type": "code",
   "execution_count": 25,
   "metadata": {},
   "outputs": [],
   "source": [
    "model.compile(optimizer='rmsprop', loss='binary_crossentropy', metrics=['accuracy'])"
   ]
  },
  {
   "cell_type": "code",
   "execution_count": 26,
   "metadata": {},
   "outputs": [],
   "source": [
    "x_validate = vectorizedTrain[:10000]\n",
    "partial_x_train = vectorizedTrain[10000:]\n",
    "y_validate = y_train[:10000]\n",
    "partial_y_train = y_train[10000:]\n"
   ]
  },
  {
   "cell_type": "code",
   "execution_count": 27,
   "metadata": {},
   "outputs": [
    {
     "name": "stdout",
     "output_type": "stream",
     "text": [
      "Epoch 1/20\n",
      "3750/3750 [==============================] - 5s 1ms/step - loss: 0.3714 - accuracy: 0.8513 - val_loss: 0.3305 - val_accuracy: 0.8795\n",
      "Epoch 2/20\n",
      "3750/3750 [==============================] - 5s 1ms/step - loss: 0.2632 - accuracy: 0.9037 - val_loss: 0.2952 - val_accuracy: 0.8920\n",
      "Epoch 3/20\n",
      "3750/3750 [==============================] - 5s 1ms/step - loss: 0.2374 - accuracy: 0.9178 - val_loss: 0.3072 - val_accuracy: 0.8936\n",
      "Epoch 4/20\n",
      "3750/3750 [==============================] - 5s 1ms/step - loss: 0.2227 - accuracy: 0.9229 - val_loss: 0.3271 - val_accuracy: 0.8939\n",
      "Epoch 5/20\n",
      "3750/3750 [==============================] - 5s 1ms/step - loss: 0.2076 - accuracy: 0.9303 - val_loss: 0.3342 - val_accuracy: 0.8946\n",
      "Epoch 6/20\n",
      "3750/3750 [==============================] - 5s 1ms/step - loss: 0.1995 - accuracy: 0.9337 - val_loss: 0.3721 - val_accuracy: 0.8925\n",
      "Epoch 7/20\n",
      "3750/3750 [==============================] - 5s 1ms/step - loss: 0.1928 - accuracy: 0.9371 - val_loss: 0.3719 - val_accuracy: 0.8903\n",
      "Epoch 8/20\n",
      "3750/3750 [==============================] - 5s 1ms/step - loss: 0.1837 - accuracy: 0.9413 - val_loss: 0.3580 - val_accuracy: 0.8871\n",
      "Epoch 9/20\n",
      "3750/3750 [==============================] - 5s 1ms/step - loss: 0.1746 - accuracy: 0.9449 - val_loss: 0.4007 - val_accuracy: 0.8864\n",
      "Epoch 10/20\n",
      "3750/3750 [==============================] - 5s 1ms/step - loss: 0.1671 - accuracy: 0.9476 - val_loss: 0.4421 - val_accuracy: 0.8851\n",
      "Epoch 11/20\n",
      "3750/3750 [==============================] - 5s 1ms/step - loss: 0.1607 - accuracy: 0.9543 - val_loss: 0.4593 - val_accuracy: 0.8836\n",
      "Epoch 12/20\n",
      "3750/3750 [==============================] - 5s 1ms/step - loss: 0.1467 - accuracy: 0.9575 - val_loss: 0.4620 - val_accuracy: 0.8651\n",
      "Epoch 13/20\n",
      "3750/3750 [==============================] - 5s 1ms/step - loss: 0.1467 - accuracy: 0.9599 - val_loss: 0.5095 - val_accuracy: 0.8743\n",
      "Epoch 14/20\n",
      "3750/3750 [==============================] - 5s 1ms/step - loss: 0.1431 - accuracy: 0.9633 - val_loss: 0.4881 - val_accuracy: 0.8693\n",
      "Epoch 15/20\n",
      "3750/3750 [==============================] - 5s 1ms/step - loss: 0.1396 - accuracy: 0.9655 - val_loss: 0.5683 - val_accuracy: 0.8726\n",
      "Epoch 16/20\n",
      "3750/3750 [==============================] - 5s 1ms/step - loss: 0.1342 - accuracy: 0.9654 - val_loss: 0.5696 - val_accuracy: 0.8726\n",
      "Epoch 17/20\n",
      "3750/3750 [==============================] - 5s 1ms/step - loss: 0.1281 - accuracy: 0.9665 - val_loss: 0.5773 - val_accuracy: 0.8607\n",
      "Epoch 18/20\n",
      "3750/3750 [==============================] - 5s 1ms/step - loss: 0.1219 - accuracy: 0.9679 - val_loss: 0.6487 - val_accuracy: 0.8736\n",
      "Epoch 19/20\n",
      "3750/3750 [==============================] - 5s 1ms/step - loss: 0.1213 - accuracy: 0.9695 - val_loss: 0.6209 - val_accuracy: 0.8604\n",
      "Epoch 20/20\n",
      "3750/3750 [==============================] - 5s 1ms/step - loss: 0.1168 - accuracy: 0.9709 - val_loss: 0.7365 - val_accuracy: 0.8651\n"
     ]
    }
   ],
   "source": [
    "historyObj = model.fit(partial_x_train, partial_y_train, epochs=20, batch_size=4, validation_data=(x_validate, y_validate))\n",
    "# the accuracy can't quite go over 0.89 mainly because the info provided in the data is limited\n",
    "# this can be seen for no matter how huge the hypothesis space is, it maxes out (starts overfitting) around\n",
    "# 0.89 accuracy. However, if we supplement in the info of the sequence of words, it might elevate the accuracy\n",
    "# a bit, but since the sequence doesn't quite affect the tone of a movie review, it's an unnecessary complication.\n",
    "\n",
    "# it looks like by reducing the batchsize we can reduce overfitting. This is not entirely because we learn faster with\n",
    "# a larger batchsize. Instead we should learn slower (in terms of number of epochs) with a larger batchsize since we\n",
    "# are making less updates though each update is more certain. This is probably because in a large batch we learn the\n",
    "# entire batch as an object. So gradually the information of that batch might start leaking into the model. This info\n",
    "# is much more condensed and less noisy than the info we have when we have a smaller batchsize. So the model might \n",
    "# overfit to the batches. A quick way to solve this is to reorder the training samples before each iteration."
   ]
  },
  {
   "cell_type": "code",
   "execution_count": 28,
   "metadata": {},
   "outputs": [
    {
     "data": {
      "image/png": "[encoded data removed]",
      "text/plain": [
       "<Figure size 432x288 with 1 Axes>"
      ]
     },
     "metadata": {
      "needs_background": "light"
     },
     "output_type": "display_data"
    },
    {
     "data": {
      "image/png": "[encoded data removed]",
      "text/plain": [
       "<Figure size 432x288 with 1 Axes>"
      ]
     },
     "metadata": {
      "needs_background": "light"
     },
     "output_type": "display_data"
    }
   ],
   "source": [
    "import matplotlib.pyplot as plt\n",
    "\n",
    "accuracies = historyObj.history['val_accuracy']\n",
    "errors = historyObj.history['val_loss']\n",
    "\n",
    "plt.xlabel(\"epochs\")\n",
    "plt.ylabel(\"accuracy\")\n",
    "plt.plot(range(len(accuracies)),accuracies)\n",
    "plt.show()\n",
    "plt.xlabel(\"epochs\")\n",
    "plt.ylabel(\"loss\")\n",
    "plt.plot(range(len(errors)),errors)\n",
    "plt.show()"
   ]
  },
  {
   "cell_type": "code",
   "execution_count": 17,
   "metadata": {},
   "outputs": [
    {
     "name": "stdout",
     "output_type": "stream",
     "text": [
      "{'loss': [0.41329243779182434, 0.22995275259017944, 0.17267970740795135], 'accuracy': [0.8294000029563904, 0.9158666729927063, 0.9372666478157043], 'val_loss': [0.3038282096385956, 0.2757902443408966, 0.40529483556747437], 'val_accuracy': [0.8867999911308289, 0.8903999924659729, 0.8510000109672546]}\n"
     ]
    }
   ],
   "source": []
  },
  {
   "cell_type": "code",
   "execution_count": null,
   "metadata": {},
   "outputs": [],
   "source": []
  }
 ],
 "metadata": {
  "kernelspec": {
   "display_name": "Python 3",
   "language": "python",
   "name": "python3"
  },
  "language_info": {
   "codemirror_mode": {
    "name": "ipython",
    "version": 3
   },
   "file_extension": ".py",
   "mimetype": "text/x-python",
   "name": "python",
   "nbconvert_exporter": "python",
   "pygments_lexer": "ipython3",
   "version": "3.7.7"
  }
 },
 "nbformat": 4,
 "nbformat_minor": 4
}
