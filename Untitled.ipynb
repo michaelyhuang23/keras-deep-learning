{
 "cells": [
  {
   "cell_type": "code",
   "execution_count": 188,
   "metadata": {},
   "outputs": [
    {
     "name": "stdout",
     "output_type": "stream",
     "text": [
      "Model: \"sequential_22\"\n",
      "_________________________________________________________________\n",
      "Layer (type)                 Output Shape              Param #   \n",
      "=================================================================\n",
      "conv2d_66 (Conv2D)           (None, 26, 26, 16)        160       \n",
      "_________________________________________________________________\n",
      "max_pooling2d_44 (MaxPooling (None, 13, 13, 16)        0         \n",
      "_________________________________________________________________\n",
      "conv2d_67 (Conv2D)           (None, 11, 11, 48)        6960      \n",
      "_________________________________________________________________\n",
      "max_pooling2d_45 (MaxPooling (None, 5, 5, 48)          0         \n",
      "_________________________________________________________________\n",
      "conv2d_68 (Conv2D)           (None, 3, 3, 64)          27712     \n",
      "=================================================================\n",
      "Total params: 34,832\n",
      "Trainable params: 34,832\n",
      "Non-trainable params: 0\n",
      "_________________________________________________________________\n",
      "None\n"
     ]
    }
   ],
   "source": [
    "from keras import layers\n",
    "from keras import models\n",
    "\n",
    "model = models.Sequential()\n",
    "model.add(layers.Conv2D(16,(3,3),activation='relu',input_shape=(28,28,1)))\n",
    "# mathematically this is a dimensional expansion here from 3*3 to 32\n",
    "\n",
    "# as illustrated, adding number of features/filters in the earlier layers doesn't add much to the model's \n",
    "# susceptibility to overfitting, but it adds dramatically to training time. It doesn't provide a huge boost to the\n",
    "# model's performance because there are really not so many preliminary features to be learned in the first few layers\n",
    "# especially given that the previous layer has size only 3*3*1. So theoretically a feature size of 9 is sufficient to\n",
    "# retain all information. Having too many features will cause a huge dimensional reduction in the next layer which \n",
    "# could lose information However, it's also important to note that the point of such filter conv2d layer is to build\n",
    "# correlation between the inputs instead of transforming the inputs individually. There're 255^9 ways the input can \n",
    "# correlate to each other and not all of them are meaningful or even possible. Plus some of those correlations can \n",
    "# be expressed as a percentage of multiple different correlations at work together. So the number of features really\n",
    "# depends on what featuers we intuitively want it to learn at this stage. Intuitively at the first stage, we want it \n",
    "# to recognize the direction of lines, edges between black and white and their direction. Very roughly there're 8 \n",
    "# directions. Perhaps we also want to recognize features like angles or anything with two edges and that at least add\n",
    "# 8 to our count.\n",
    "\n",
    "# at first glance, it seems a sigmoid activation function makes sense since we are classifying whether a feature exist\n",
    "# or not. However, it in fact cannot and shouldn't be classified as either exist or not. Instead, for each feature we\n",
    "# we should indicate how similar is this pattern in the filter window is to that feature, for which case a relu makes\n",
    "# more sense. Additionally and unsurprisingly, a relu can be trained more easily.\n",
    "model.add(layers.MaxPooling2D((2,2)))\n",
    "model.add(layers.Conv2D(48,(3,3),activation='relu'))\n",
    "# this goes from 3*3*32 to 64\n",
    "\n",
    "# we might want to see lines and turning points and circles in this one: roughly 8 neurons for lines, 32 for turning\n",
    "# points and just add another 8 for other things.\n",
    "\n",
    "model.add(layers.MaxPooling2D((2,2)))\n",
    "model.add(layers.Conv2D(64,(3,3),activation='relu'))\n",
    "# this goes from 3*3*64 to 64\n",
    "\n",
    "# looking at the resolution of the input: 5*5, it looks like we need to recognize things like circles, curves and \n",
    "# other abstract high-level features of numbers: turning points, intersections, end of a line (curly end and straight\n",
    "# end), directional half circle, moon shape, etc. Let's give 32 for turning points, 4 for intersections, 12 for end\n",
    "# of a line, 8 for directional half circles, 4 for moon shapes and 4 for circles (we give more than needed to make the\n",
    "# model less susceptible to scaling and translation). \n",
    "\n",
    "# for each filtering of features, since we are only applying one linear transformation followed by curbings, we must\n",
    "# consider if this is enough transformation to derive the features from the older ones, if not we might want to either\n",
    "# apply two conv2d layers consecutively or enlarge the transformation at each conv2d layer to include some hidden\n",
    "# layers. The first method has a richer hypothesis space while the second has more regularity and is thus less prone\n",
    "# to overfitting.\n",
    "print(model.summary())"
   ]
  },
  {
   "cell_type": "code",
   "execution_count": 189,
   "metadata": {},
   "outputs": [],
   "source": [
    "model.add(layers.Flatten())\n",
    "model.add(layers.Dense(64, activation='relu'))\n",
    "model.add(layers.Dense(10, activation='softmax'))\n",
    "# model.add(layers.Flatten())\n",
    "# model.add(layers.Dense(10, activation='sigmoid'))\n",
    "# these two alone have the same mathematical effect of a new conv2d layer attached at the end\n",
    "# adding an intermediate layer expands the hypothesis space and reduces the info lost during the huge dimensional\n",
    "# reduction from 3*3*64 to 10 dimensions."
   ]
  },
  {
   "cell_type": "code",
   "execution_count": 190,
   "metadata": {},
   "outputs": [
    {
     "name": "stdout",
     "output_type": "stream",
     "text": [
      "0.0 0.0 0.0 0.0 0.0 0.0 0.0 0.0 0.0 0.0 0.0 0.0 0.0 0.0 0.0 0.0 0.0 0.0 0.0 0.0 0.0 0.0 0.0 0.0 0.0 0.0 0.0 0.0\n",
      "0.0 0.0 0.0 0.0 0.0 0.0 0.0 0.0 0.0 0.0 0.0 0.0 0.0 0.0 0.0 0.0 0.0 0.0 0.0 0.0 0.0 0.0 0.0 0.0 0.0 0.0 0.0 0.0\n",
      "0.0 0.0 0.0 0.0 0.0 0.0 0.0 0.0 0.0 0.0 0.0 0.0 0.0 0.0 0.0 0.0 0.0 0.0 0.0 0.0 0.0 0.0 0.0 0.0 0.0 0.0 0.0 0.0\n",
      "0.0 0.0 0.0 0.0 0.0 0.0 0.0 0.0 0.0 0.0 0.0 0.0 0.0 0.0 0.0 0.0 0.0 0.0 0.0 0.0 0.0 0.0 0.0 0.0 0.0 0.0 0.0 0.0\n",
      "0.0 0.0 0.0 0.0 0.0 0.0 0.0 0.0 0.0 0.0 0.0 0.0 0.0 0.0 0.0 0.0 0.0 0.0 0.0 0.0 0.0 0.0 0.0 0.0 0.0 0.0 0.0 0.0\n",
      "0.0 0.0 0.0 0.0 0.0 0.0 0.0 0.0 0.0 0.0 0.0 0.0 0.0 0.0 0.14117648 0.57254905 0.99607843 1.0 0.9843137 0.37254903 0.023529412 0.0 0.0 0.0 0.0 0.0 0.0 0.0\n",
      "0.0 0.0 0.0 0.0 0.0 0.0 0.0 0.0 0.0 0.0 0.0 0.0 0.011764706 0.38039216 0.91764706 0.99607843 0.99607843 0.9098039 0.99607843 0.99607843 0.13725491 0.0 0.0 0.0 0.0 0.0 0.0 0.0\n",
      "0.0 0.0 0.0 0.0 0.0 0.0 0.0 0.0 0.0 0.0 0.0 0.34901962 0.54901963 0.99607843 0.99607843 0.68235296 0.2627451 0.12941177 0.78431374 0.99607843 0.74509805 0.0 0.0 0.0 0.0 0.0 0.0 0.0\n",
      "0.0 0.0 0.0 0.0 0.0 0.0 0.0 0.0 0.0 0.0 0.42352942 0.99215686 0.99607843 0.92156863 0.2 0.003921569 0.0 0.0 0.047058824 0.99607843 0.99215686 0.21960784 0.0 0.0 0.0 0.0 0.0 0.0\n",
      "0.0 0.0 0.0 0.0 0.0 0.0 0.0 0.0 0.0 0.047058824 0.84705883 0.99607843 0.95686275 0.21568628 0.0 0.0 0.0 0.0 0.023529412 0.8352941 0.99607843 0.22352941 0.0 0.0 0.0 0.0 0.0 0.0\n",
      "0.0 0.0 0.0 0.0 0.0 0.0 0.0 0.0 0.0 0.09803922 0.99607843 0.99607843 0.5176471 0.0 0.0 0.0 0.0 0.0 0.0 0.65882355 0.99607843 0.22352941 0.0 0.0 0.0 0.0 0.0 0.0\n",
      "0.0 0.0 0.0 0.0 0.0 0.0 0.0 0.0 0.0 0.1764706 0.99607843 0.9529412 0.13333334 0.0 0.0 0.0 0.0 0.0 0.0 0.65882355 0.99607843 0.22352941 0.0 0.0 0.0 0.0 0.0 0.0\n",
      "0.0 0.0 0.0 0.0 0.0 0.0 0.0 0.0 0.0 0.5019608 0.99607843 0.6156863 0.0 0.0 0.0 0.0 0.0 0.0 0.0 0.65882355 0.99607843 0.22352941 0.0 0.0 0.0 0.0 0.0 0.0\n",
      "0.0 0.0 0.0 0.0 0.0 0.0 0.0 0.0 0.07450981 0.89411765 0.99607843 0.4117647 0.0 0.0 0.0 0.0 0.0 0.0 0.02745098 0.89411765 0.99607843 0.22352941 0.0 0.0 0.0 0.0 0.0 0.0\n",
      "0.0 0.0 0.0 0.0 0.0 0.0 0.0 0.0 0.22745098 0.99607843 0.99607843 0.34117648 0.0 0.0 0.0 0.0 0.0 0.0 0.039215688 0.99607843 0.9647059 0.18431373 0.0 0.0 0.0 0.0 0.0 0.0\n",
      "0.0 0.0 0.0 0.0 0.0 0.0 0.0 0.0 0.22745098 0.99607843 0.99607843 0.03529412 0.0 0.0 0.0 0.0 0.0 0.0 0.039215688 0.99607843 0.8235294 0.0 0.0 0.0 0.0 0.0 0.0 0.0\n",
      "0.0 0.0 0.0 0.0 0.0 0.0 0.0 0.0 0.22745098 0.99607843 0.99607843 0.03529412 0.0 0.0 0.0 0.0 0.0 0.0 0.4117647 0.99607843 0.35686275 0.0 0.0 0.0 0.0 0.0 0.0 0.0\n",
      "0.0 0.0 0.0 0.0 0.0 0.0 0.0 0.0 0.019607844 0.85882354 0.99607843 0.03529412 0.0 0.0 0.0 0.0 0.0 0.09411765 0.9019608 0.99607843 0.09411765 0.0 0.0 0.0 0.0 0.0 0.0 0.0\n",
      "0.0 0.0 0.0 0.0 0.0 0.0 0.0 0.0 0.0 0.84705883 0.99607843 0.03529412 0.0 0.0 0.0 0.0 0.0 0.32941177 0.99607843 0.9843137 0.09019608 0.0 0.0 0.0 0.0 0.0 0.0 0.0\n",
      "0.0 0.0 0.0 0.0 0.0 0.0 0.0 0.0 0.0 0.84705883 0.99607843 0.14117648 0.0 0.0 0.0 0.0 0.08627451 0.8156863 0.9843137 0.36862746 0.0 0.0 0.0 0.0 0.0 0.0 0.0 0.0\n",
      "0.0 0.0 0.0 0.0 0.0 0.0 0.0 0.0 0.0 0.5058824 0.99607843 0.47058824 0.0 0.0 0.0 0.011764706 0.54901963 0.99607843 0.8980392 0.0 0.0 0.0 0.0 0.0 0.0 0.0 0.0 0.0\n",
      "0.0 0.0 0.0 0.0 0.0 0.0 0.0 0.0 0.0 0.3254902 0.99607843 0.87058824 0.06666667 0.0 0.0 0.35686275 0.99607843 0.9254902 0.20784314 0.0 0.0 0.0 0.0 0.0 0.0 0.0 0.0 0.0\n",
      "0.0 0.0 0.0 0.0 0.0 0.0 0.0 0.0 0.0 0.07058824 0.92156863 0.99607843 0.5254902 0.08235294 0.46666667 0.92941177 0.99607843 0.4862745 0.0 0.0 0.0 0.0 0.0 0.0 0.0 0.0 0.0 0.0\n",
      "0.0 0.0 0.0 0.0 0.0 0.0 0.0 0.0 0.0 0.0 0.20784314 0.9764706 0.99607843 0.91764706 0.9882353 0.99607843 0.6745098 0.011764706 0.0 0.0 0.0 0.0 0.0 0.0 0.0 0.0 0.0 0.0\n",
      "0.0 0.0 0.0 0.0 0.0 0.0 0.0 0.0 0.0 0.0 0.0 0.45490196 0.92941177 0.99607843 0.99607843 0.52156866 0.078431375 0.0 0.0 0.0 0.0 0.0 0.0 0.0 0.0 0.0 0.0 0.0\n",
      "0.0 0.0 0.0 0.0 0.0 0.0 0.0 0.0 0.0 0.0 0.0 0.0 0.0 0.0 0.0 0.0 0.0 0.0 0.0 0.0 0.0 0.0 0.0 0.0 0.0 0.0 0.0 0.0\n",
      "0.0 0.0 0.0 0.0 0.0 0.0 0.0 0.0 0.0 0.0 0.0 0.0 0.0 0.0 0.0 0.0 0.0 0.0 0.0 0.0 0.0 0.0 0.0 0.0 0.0 0.0 0.0 0.0\n",
      "0.0 0.0 0.0 0.0 0.0 0.0 0.0 0.0 0.0 0.0 0.0 0.0 0.0 0.0 0.0 0.0 0.0 0.0 0.0 0.0 0.0 0.0 0.0 0.0 0.0 0.0 0.0 0.0\n"
     ]
    }
   ],
   "source": [
    "from keras.datasets import mnist\n",
    "from keras.utils import to_categorical\n",
    "import numpy as np\n",
    "(train_images, train_labels),(test_images, test_labels) = mnist.load_data()\n",
    "train_images = train_images.reshape(np.append(np.shape(train_images),(1)))\n",
    "train_images = train_images.astype('float32') / 255\n",
    "\n",
    "test_images = test_images.reshape(np.append(np.shape(test_images),(1)))\n",
    "test_images = test_images.astype('float32') / 255\n",
    "train_labels = to_categorical(train_labels)\n",
    "test_labels = to_categorical(test_labels)\n",
    "\n",
    "partial_train_images = train_images[1000:2000]\n",
    "partial_train_labels = train_labels[1000:2000]\n",
    "\n",
    "val_images = train_images[:1000]\n",
    "val_labels = train_labels[:1000]\n",
    "for row in partial_train_images[0]:\n",
    "    print(' '.join([str(i[0]) for i in row]))\n",
    "#print(partial_train_images[0])"
   ]
  },
  {
   "cell_type": "code",
   "execution_count": 191,
   "metadata": {},
   "outputs": [
    {
     "name": "stdout",
     "output_type": "stream",
     "text": [
      "Epoch 1/50\n",
      "1000/1000 [==============================] - 2s 2ms/step - loss: 0.9063 - accuracy: 0.7030 - val_loss: 0.4039 - val_accuracy: 0.8830\n",
      "Epoch 2/50\n",
      "1000/1000 [==============================] - 2s 2ms/step - loss: 0.2971 - accuracy: 0.9050 - val_loss: 0.3297 - val_accuracy: 0.9100\n",
      "Epoch 3/50\n",
      "1000/1000 [==============================] - 2s 2ms/step - loss: 0.2161 - accuracy: 0.9370 - val_loss: 0.3602 - val_accuracy: 0.9080\n",
      "Epoch 4/50\n",
      "1000/1000 [==============================] - 2s 2ms/step - loss: 0.1423 - accuracy: 0.9600 - val_loss: 0.2747 - val_accuracy: 0.9340\n",
      "Epoch 5/50\n",
      "1000/1000 [==============================] - 2s 2ms/step - loss: 0.1136 - accuracy: 0.9750 - val_loss: 0.3235 - val_accuracy: 0.9450\n",
      "Epoch 6/50\n",
      "1000/1000 [==============================] - 2s 2ms/step - loss: 0.0694 - accuracy: 0.9810 - val_loss: 0.4297 - val_accuracy: 0.9340\n",
      "Epoch 7/50\n",
      "1000/1000 [==============================] - 2s 2ms/step - loss: 0.0485 - accuracy: 0.9900 - val_loss: 0.4429 - val_accuracy: 0.9400\n",
      "Epoch 8/50\n",
      "1000/1000 [==============================] - 2s 2ms/step - loss: 0.0759 - accuracy: 0.9820 - val_loss: 0.5406 - val_accuracy: 0.9320\n",
      "Epoch 9/50\n",
      "1000/1000 [==============================] - 2s 2ms/step - loss: 0.0182 - accuracy: 0.9930 - val_loss: 0.5613 - val_accuracy: 0.9380\n",
      "Epoch 10/50\n",
      "1000/1000 [==============================] - 2s 2ms/step - loss: 0.0428 - accuracy: 0.9930 - val_loss: 0.5461 - val_accuracy: 0.9450\n",
      "Epoch 11/50\n",
      "1000/1000 [==============================] - 2s 2ms/step - loss: 0.0322 - accuracy: 0.9950 - val_loss: 0.7338 - val_accuracy: 0.9450\n",
      "Epoch 12/50\n",
      "1000/1000 [==============================] - 2s 2ms/step - loss: 0.0281 - accuracy: 0.9930 - val_loss: 0.6137 - val_accuracy: 0.9430\n",
      "Epoch 13/50\n",
      "1000/1000 [==============================] - 2s 2ms/step - loss: 0.0125 - accuracy: 0.9970 - val_loss: 0.6372 - val_accuracy: 0.9490\n",
      "Epoch 14/50\n",
      "1000/1000 [==============================] - 2s 2ms/step - loss: 0.0063 - accuracy: 0.9990 - val_loss: 0.8358 - val_accuracy: 0.9460\n",
      "Epoch 15/50\n",
      "1000/1000 [==============================] - 2s 2ms/step - loss: 0.0256 - accuracy: 0.9970 - val_loss: 0.8170 - val_accuracy: 0.9450\n",
      "Epoch 16/50\n",
      "1000/1000 [==============================] - 2s 2ms/step - loss: 0.0057 - accuracy: 0.9980 - val_loss: 0.9203 - val_accuracy: 0.9430\n",
      "Epoch 17/50\n",
      "1000/1000 [==============================] - 2s 2ms/step - loss: 0.0104 - accuracy: 0.9970 - val_loss: 0.8751 - val_accuracy: 0.9520\n",
      "Epoch 18/50\n",
      "1000/1000 [==============================] - 2s 2ms/step - loss: 0.0122 - accuracy: 0.9980 - val_loss: 0.9343 - val_accuracy: 0.9470\n",
      "Epoch 19/50\n",
      "1000/1000 [==============================] - 2s 2ms/step - loss: 0.0094 - accuracy: 0.9990 - val_loss: 0.8217 - val_accuracy: 0.9490\n",
      "Epoch 20/50\n",
      "1000/1000 [==============================] - 2s 2ms/step - loss: 0.0040 - accuracy: 0.9990 - val_loss: 0.8624 - val_accuracy: 0.9470\n",
      "Epoch 21/50\n",
      "1000/1000 [==============================] - 2s 2ms/step - loss: 1.1157e-05 - accuracy: 1.0000 - val_loss: 1.1078 - val_accuracy: 0.9400\n",
      "Epoch 22/50\n",
      "1000/1000 [==============================] - 2s 2ms/step - loss: 0.0141 - accuracy: 0.9980 - val_loss: 1.0334 - val_accuracy: 0.9510\n",
      "Epoch 23/50\n",
      "1000/1000 [==============================] - 2s 2ms/step - loss: 0.0000e+00 - accuracy: 1.0000 - val_loss: 1.0523 - val_accuracy: 0.9530\n",
      "Epoch 24/50\n",
      "1000/1000 [==============================] - 2s 2ms/step - loss: 0.0000e+00 - accuracy: 1.0000 - val_loss: 1.0548 - val_accuracy: 0.9530\n",
      "Epoch 25/50\n",
      "1000/1000 [==============================] - 2s 2ms/step - loss: 0.0000e+00 - accuracy: 1.0000 - val_loss: 1.0569 - val_accuracy: 0.9530\n",
      "Epoch 26/50\n",
      "1000/1000 [==============================] - 2s 2ms/step - loss: 0.0000e+00 - accuracy: 1.0000 - val_loss: 1.0585 - val_accuracy: 0.9530\n",
      "Epoch 27/50\n",
      "1000/1000 [==============================] - 2s 2ms/step - loss: 0.0000e+00 - accuracy: 1.0000 - val_loss: 1.0600 - val_accuracy: 0.9530\n",
      "Epoch 28/50\n",
      "1000/1000 [==============================] - 2s 2ms/step - loss: 0.0000e+00 - accuracy: 1.0000 - val_loss: 1.0613 - val_accuracy: 0.9540\n",
      "Epoch 29/50\n",
      "1000/1000 [==============================] - 2s 2ms/step - loss: 0.0000e+00 - accuracy: 1.0000 - val_loss: 1.0625 - val_accuracy: 0.9540\n",
      "Epoch 30/50\n",
      "1000/1000 [==============================] - 2s 2ms/step - loss: 0.0000e+00 - accuracy: 1.0000 - val_loss: 1.0636 - val_accuracy: 0.9540\n",
      "Epoch 31/50\n",
      "1000/1000 [==============================] - 2s 2ms/step - loss: 0.0000e+00 - accuracy: 1.0000 - val_loss: 1.0647 - val_accuracy: 0.9540\n",
      "Epoch 32/50\n",
      "1000/1000 [==============================] - 2s 2ms/step - loss: 0.0000e+00 - accuracy: 1.0000 - val_loss: 1.0656 - val_accuracy: 0.9540\n",
      "Epoch 33/50\n",
      "1000/1000 [==============================] - 2s 2ms/step - loss: 0.0000e+00 - accuracy: 1.0000 - val_loss: 1.0666 - val_accuracy: 0.9540\n",
      "Epoch 34/50\n",
      "1000/1000 [==============================] - 2s 2ms/step - loss: 0.0000e+00 - accuracy: 1.0000 - val_loss: 1.0674 - val_accuracy: 0.9540\n",
      "Epoch 35/50\n",
      "1000/1000 [==============================] - 2s 2ms/step - loss: 0.0000e+00 - accuracy: 1.0000 - val_loss: 1.0683 - val_accuracy: 0.9540\n",
      "Epoch 36/50\n",
      "1000/1000 [==============================] - 2s 2ms/step - loss: 0.0000e+00 - accuracy: 1.0000 - val_loss: 1.0691 - val_accuracy: 0.9540\n",
      "Epoch 37/50\n",
      "1000/1000 [==============================] - 2s 2ms/step - loss: 0.0000e+00 - accuracy: 1.0000 - val_loss: 1.0698 - val_accuracy: 0.9540\n",
      "Epoch 38/50\n",
      "1000/1000 [==============================] - 2s 2ms/step - loss: 0.0000e+00 - accuracy: 1.0000 - val_loss: 1.0705 - val_accuracy: 0.9540\n",
      "Epoch 39/50\n",
      "1000/1000 [==============================] - 2s 2ms/step - loss: 0.0000e+00 - accuracy: 1.0000 - val_loss: 1.0713 - val_accuracy: 0.9540\n",
      "Epoch 40/50\n",
      "1000/1000 [==============================] - 2s 2ms/step - loss: 0.0000e+00 - accuracy: 1.0000 - val_loss: 1.0719 - val_accuracy: 0.9540\n",
      "Epoch 41/50\n",
      "1000/1000 [==============================] - 2s 2ms/step - loss: 0.0000e+00 - accuracy: 1.0000 - val_loss: 1.0726 - val_accuracy: 0.9540\n",
      "Epoch 42/50\n",
      "1000/1000 [==============================] - 2s 2ms/step - loss: 0.0000e+00 - accuracy: 1.0000 - val_loss: 1.0732 - val_accuracy: 0.9540\n",
      "Epoch 43/50\n",
      "1000/1000 [==============================] - 2s 2ms/step - loss: 0.0000e+00 - accuracy: 1.0000 - val_loss: 1.0739 - val_accuracy: 0.9550\n",
      "Epoch 44/50\n",
      "1000/1000 [==============================] - 2s 2ms/step - loss: 0.0000e+00 - accuracy: 1.0000 - val_loss: 1.0745 - val_accuracy: 0.9550\n",
      "Epoch 45/50\n",
      "1000/1000 [==============================] - 2s 2ms/step - loss: 0.0000e+00 - accuracy: 1.0000 - val_loss: 1.0750 - val_accuracy: 0.9550\n",
      "Epoch 46/50\n",
      "1000/1000 [==============================] - 2s 2ms/step - loss: 0.0000e+00 - accuracy: 1.0000 - val_loss: 1.0756 - val_accuracy: 0.9550\n",
      "Epoch 47/50\n",
      "1000/1000 [==============================] - 2s 2ms/step - loss: 0.0000e+00 - accuracy: 1.0000 - val_loss: 1.0762 - val_accuracy: 0.9550\n",
      "Epoch 48/50\n",
      "1000/1000 [==============================] - 2s 2ms/step - loss: 0.0000e+00 - accuracy: 1.0000 - val_loss: 1.0767 - val_accuracy: 0.9550\n",
      "Epoch 49/50\n",
      "1000/1000 [==============================] - 2s 2ms/step - loss: 0.0000e+00 - accuracy: 1.0000 - val_loss: 1.0773 - val_accuracy: 0.9550\n",
      "Epoch 50/50\n",
      "1000/1000 [==============================] - 2s 2ms/step - loss: 0.0000e+00 - accuracy: 1.0000 - val_loss: 1.0778 - val_accuracy: 0.9550\n"
     ]
    }
   ],
   "source": [
    "model.compile(optimizer='rmsprop',loss='categorical_crossentropy',metrics=['accuracy'])\n",
    "hist = model.fit(partial_train_images,partial_train_labels, epochs=50, batch_size=1, validation_data=(val_images, val_labels))\n",
    "# Very apparently, convolutionary neural network is not very susceptible to overfitting, in fact the majority of the \n",
    "# overfitting occurs at the end dense layers. The reason why CNN is not susceptible to overfitting is because its\n",
    "# training is intrinsically mathematically equivalent to data augmentation. The same filtering window is trained on\n",
    "# every possible slots where we can fit a window, which is mathematically equivalent to having a lot of training \n",
    "# samples. This is especially true for earlier layers. It also makes intuitive sense since earlier layers are learning\n",
    "# basic, common and thus non-specific features such as lines, curves, circles and etc."
   ]
  },
  {
   "cell_type": "code",
   "execution_count": 192,
   "metadata": {},
   "outputs": [
    {
     "name": "stdout",
     "output_type": "stream",
     "text": [
      "313/313 [==============================] - 1s 2ms/step - loss: 0.9868 - accuracy: 0.9561\n",
      "loss:  0.9867855310440063   accuracy:  0.9560999870300293\n"
     ]
    }
   ],
   "source": [
    "test_loss, test_acc = model.evaluate(test_images, test_labels)\n",
    "print('loss: ',test_loss,'  accuracy: ',test_acc)"
   ]
  },
  {
   "cell_type": "code",
   "execution_count": 193,
   "metadata": {},
   "outputs": [
    {
     "data": {
      "text/plain": [
       "[<matplotlib.lines.Line2D at 0x7fc181cbf2d0>]"
      ]
     },
     "execution_count": 193,
     "metadata": {},
     "output_type": "execute_result"
    },
    {
     "data": {
      "image/png": "[encoded data removed]",
      "text/plain": [
       "<Figure size 432x288 with 1 Axes>"
      ]
     },
     "metadata": {
      "needs_background": "light"
     },
     "output_type": "display_data"
    }
   ],
   "source": [
    "import matplotlib.pyplot as plt\n",
    "\n",
    "plt.xlabel('epochs')\n",
    "plt.ylabel('accuracy')\n",
    "\n",
    "plt.plot(range(50),hist.history['val_accuracy'])"
   ]
  },
  {
   "cell_type": "code",
   "execution_count": null,
   "metadata": {},
   "outputs": [],
   "source": []
  },
  {
   "cell_type": "code",
   "execution_count": null,
   "metadata": {},
   "outputs": [],
   "source": []
  },
  {
   "cell_type": "code",
   "execution_count": null,
   "metadata": {},
   "outputs": [],
   "source": []
  }
 ],
 "metadata": {
  "kernelspec": {
   "display_name": "Python 3",
   "language": "python",
   "name": "python3"
  },
  "language_info": {
   "codemirror_mode": {
    "name": "ipython",
    "version": 3
   },
   "file_extension": ".py",
   "mimetype": "text/x-python",
   "name": "python",
   "nbconvert_exporter": "python",
   "pygments_lexer": "ipython3",
   "version": "3.7.7"
  }
 },
 "nbformat": 4,
 "nbformat_minor": 4
}
