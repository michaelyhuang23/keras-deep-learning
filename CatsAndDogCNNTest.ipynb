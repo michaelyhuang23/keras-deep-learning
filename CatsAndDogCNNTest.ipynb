{
 "cells": [
  {
   "cell_type": "code",
   "execution_count": 1,
   "metadata": {},
   "outputs": [
    {
     "name": "stdout",
     "output_type": "stream",
     "text": [
      "Model: \"sequential\"\n",
      "_________________________________________________________________\n",
      "Layer (type)                 Output Shape              Param #   \n",
      "=================================================================\n",
      "conv2d (Conv2D)              (None, 148, 148, 32)      896       \n",
      "_________________________________________________________________\n",
      "max_pooling2d (MaxPooling2D) (None, 74, 74, 32)        0         \n",
      "_________________________________________________________________\n",
      "conv2d_1 (Conv2D)            (None, 72, 72, 64)        18496     \n",
      "_________________________________________________________________\n",
      "max_pooling2d_1 (MaxPooling2 (None, 36, 36, 64)        0         \n",
      "_________________________________________________________________\n",
      "conv2d_2 (Conv2D)            (None, 34, 34, 128)       73856     \n",
      "_________________________________________________________________\n",
      "max_pooling2d_2 (MaxPooling2 (None, 17, 17, 128)       0         \n",
      "_________________________________________________________________\n",
      "conv2d_3 (Conv2D)            (None, 15, 15, 128)       147584    \n",
      "_________________________________________________________________\n",
      "max_pooling2d_3 (MaxPooling2 (None, 7, 7, 128)         0         \n",
      "=================================================================\n",
      "Total params: 240,832\n",
      "Trainable params: 240,832\n",
      "Non-trainable params: 0\n",
      "_________________________________________________________________\n",
      "None\n"
     ]
    }
   ],
   "source": [
    "from keras import models\n",
    "from keras import layers\n",
    "\n",
    "model = models.Sequential()\n",
    "model.add(layers.Conv2D(32,(3,3),activation='relu',input_shape=(150,150,3)))\n",
    "model.add(layers.MaxPooling2D((2,2)))\n",
    "model.add(layers.Conv2D(64,(3,3),activation='relu'))  \n",
    "model.add(layers.MaxPooling2D((2,2)))\n",
    "model.add(layers.Conv2D(128,(3,3),activation='relu'))\n",
    "model.add(layers.MaxPooling2D((2,2)))\n",
    "model.add(layers.Conv2D(128,(3,3),activation='relu'))\n",
    "model.add(layers.MaxPooling2D((2,2)))\n",
    "\n",
    "print(model.summary())\n"
   ]
  },
  {
   "cell_type": "code",
   "execution_count": 2,
   "metadata": {},
   "outputs": [],
   "source": [
    "model.add(layers.Flatten())\n",
    "model.add(layers.Dense(512, activation='relu'))\n",
    "model.add(layers.Dense(1, activation='sigmoid'))"
   ]
  },
  {
   "cell_type": "code",
   "execution_count": 10,
   "metadata": {},
   "outputs": [
    {
     "name": "stdout",
     "output_type": "stream",
     "text": [
      "Found 2000 images belonging to 2 classes.\n",
      "Found 1000 images belonging to 2 classes.\n"
     ]
    }
   ],
   "source": [
    "from keras.preprocessing.image import ImageDataGenerator\n",
    "\n",
    "train_datagen = ImageDataGenerator(rescale=1./255)\n",
    "test_datagen = ImageDataGenerator(rescale=1./255)\n",
    "train_dir = 'cats_and_dogs_small/train'\n",
    "val_dir = 'cats_and_dogs_small/validation'\n",
    "test_dir = 'cats_and_dogs_small/test'\n",
    "train_generator = train_datagen.flow_from_directory(train_dir, \\\n",
    "                target_size=(150,150), batch_size=40, class_mode='binary')\n",
    "validation_generator = test_datagen.flow_from_directory(val_dir, \\\n",
    "                target_size=(150,150), batch_size=40, class_mode='binary')\n"
   ]
  },
  {
   "cell_type": "code",
   "execution_count": 11,
   "metadata": {},
   "outputs": [],
   "source": [
    "from keras import optimizers\n",
    "\n",
    "model.compile(loss='binary_crossentropy',optimizer=optimizers.RMSprop(lr=1e-4),metrics=['acc'])"
   ]
  },
  {
   "cell_type": "code",
   "execution_count": 12,
   "metadata": {},
   "outputs": [
    {
     "name": "stdout",
     "output_type": "stream",
     "text": [
      "Epoch 1/90\n",
      "50/50 [==============================] - 33s 651ms/step - loss: 0.0428 - acc: 0.9865 - val_loss: 0.9907 - val_acc: 0.7310\n",
      "Epoch 2/90\n",
      "50/50 [==============================] - 34s 672ms/step - loss: 0.0234 - acc: 0.9955 - val_loss: 0.9535 - val_acc: 0.7440\n",
      "Epoch 3/90\n",
      "50/50 [==============================] - 33s 662ms/step - loss: 0.0200 - acc: 0.9960 - val_loss: 1.9402 - val_acc: 0.6690\n",
      "Epoch 4/90\n",
      "50/50 [==============================] - 32s 649ms/step - loss: 0.0223 - acc: 0.9910 - val_loss: 1.0240 - val_acc: 0.7360\n",
      "Epoch 5/90\n",
      "50/50 [==============================] - 35s 702ms/step - loss: 0.0263 - acc: 0.9925 - val_loss: 1.0381 - val_acc: 0.7480\n",
      "Epoch 6/90\n",
      "50/50 [==============================] - 34s 689ms/step - loss: 0.0184 - acc: 0.9955 - val_loss: 1.1121 - val_acc: 0.7380\n",
      "Epoch 7/90\n",
      "50/50 [==============================] - 34s 686ms/step - loss: 0.0115 - acc: 0.9980 - val_loss: 1.1730 - val_acc: 0.7380\n",
      "Epoch 8/90\n",
      "50/50 [==============================] - 32s 644ms/step - loss: 0.0137 - acc: 0.9970 - val_loss: 1.1751 - val_acc: 0.7390\n",
      "Epoch 9/90\n",
      "50/50 [==============================] - 32s 640ms/step - loss: 0.0230 - acc: 0.9960 - val_loss: 1.1540 - val_acc: 0.7390\n",
      "Epoch 10/90\n",
      "50/50 [==============================] - 34s 684ms/step - loss: 0.0156 - acc: 0.9960 - val_loss: 1.1639 - val_acc: 0.7500\n",
      "Epoch 11/90\n",
      "50/50 [==============================] - 33s 661ms/step - loss: 0.0191 - acc: 0.9955 - val_loss: 1.1792 - val_acc: 0.7360\n",
      "Epoch 12/90\n",
      "50/50 [==============================] - 32s 633ms/step - loss: 0.0107 - acc: 0.9970 - val_loss: 1.2247 - val_acc: 0.7450\n",
      "Epoch 13/90\n",
      "50/50 [==============================] - 32s 637ms/step - loss: 0.0137 - acc: 0.9960 - val_loss: 1.2834 - val_acc: 0.7290\n",
      "Epoch 14/90\n",
      "50/50 [==============================] - 32s 634ms/step - loss: 0.0030 - acc: 1.0000 - val_loss: 1.3375 - val_acc: 0.7440\n",
      "Epoch 15/90\n",
      "50/50 [==============================] - 32s 633ms/step - loss: 0.0077 - acc: 0.9975 - val_loss: 1.3292 - val_acc: 0.7350\n",
      "Epoch 16/90\n",
      "50/50 [==============================] - 31s 626ms/step - loss: 0.0280 - acc: 0.9935 - val_loss: 1.3093 - val_acc: 0.7410\n",
      "Epoch 17/90\n",
      "50/50 [==============================] - 32s 632ms/step - loss: 0.0218 - acc: 0.9940 - val_loss: 1.3121 - val_acc: 0.7420\n",
      "Epoch 18/90\n",
      "50/50 [==============================] - 33s 657ms/step - loss: 0.0012 - acc: 1.0000 - val_loss: 1.4289 - val_acc: 0.7400\n",
      "Epoch 19/90\n",
      "50/50 [==============================] - 32s 638ms/step - loss: 0.0070 - acc: 0.9970 - val_loss: 1.4052 - val_acc: 0.7360\n",
      "Epoch 20/90\n",
      "50/50 [==============================] - 32s 634ms/step - loss: 0.0058 - acc: 0.9990 - val_loss: 1.4335 - val_acc: 0.7410\n",
      "Epoch 21/90\n",
      "50/50 [==============================] - 32s 636ms/step - loss: 6.8175e-04 - acc: 1.0000 - val_loss: 1.8329 - val_acc: 0.7250\n",
      "Epoch 22/90\n",
      "50/50 [==============================] - 32s 633ms/step - loss: 0.0240 - acc: 0.9930 - val_loss: 1.4522 - val_acc: 0.7340\n",
      "Epoch 23/90\n",
      "50/50 [==============================] - 32s 633ms/step - loss: 0.0031 - acc: 0.9995 - val_loss: 1.5915 - val_acc: 0.7280\n",
      "Epoch 24/90\n",
      "50/50 [==============================] - 32s 635ms/step - loss: 0.0011 - acc: 0.9995 - val_loss: 2.2482 - val_acc: 0.6960\n",
      "Epoch 25/90\n",
      "50/50 [==============================] - 32s 637ms/step - loss: 0.0127 - acc: 0.9970 - val_loss: 1.5229 - val_acc: 0.7390\n",
      "Epoch 26/90\n",
      "50/50 [==============================] - 33s 658ms/step - loss: 0.0236 - acc: 0.9910 - val_loss: 1.5124 - val_acc: 0.7310\n",
      "Epoch 27/90\n",
      "50/50 [==============================] - 34s 682ms/step - loss: 7.0427e-04 - acc: 1.0000 - val_loss: 1.5478 - val_acc: 0.7350\n",
      "Epoch 28/90\n",
      "50/50 [==============================] - 34s 682ms/step - loss: 0.0098 - acc: 0.9965 - val_loss: 1.5872 - val_acc: 0.7330\n",
      "Epoch 29/90\n",
      "50/50 [==============================] - 33s 658ms/step - loss: 4.2637e-04 - acc: 1.0000 - val_loss: 1.6390 - val_acc: 0.7420\n",
      "Epoch 30/90\n",
      "50/50 [==============================] - 33s 651ms/step - loss: 0.0164 - acc: 0.9965 - val_loss: 1.6136 - val_acc: 0.7350\n",
      "Epoch 31/90\n",
      "50/50 [==============================] - 32s 641ms/step - loss: 0.0113 - acc: 0.9955 - val_loss: 2.1504 - val_acc: 0.7020\n",
      "Epoch 32/90\n",
      "50/50 [==============================] - 32s 642ms/step - loss: 0.0025 - acc: 0.9990 - val_loss: 1.6224 - val_acc: 0.7410\n",
      "Epoch 33/90\n",
      "50/50 [==============================] - 32s 637ms/step - loss: 0.0115 - acc: 0.9980 - val_loss: 1.5689 - val_acc: 0.7400\n",
      "Epoch 34/90\n",
      "50/50 [==============================] - 33s 650ms/step - loss: 4.6839e-04 - acc: 1.0000 - val_loss: 1.6413 - val_acc: 0.7410\n",
      "Epoch 35/90\n",
      "50/50 [==============================] - 33s 652ms/step - loss: 0.0308 - acc: 0.9935 - val_loss: 1.6665 - val_acc: 0.7300\n",
      "Epoch 36/90\n",
      "50/50 [==============================] - 32s 645ms/step - loss: 2.7272e-04 - acc: 1.0000 - val_loss: 1.6899 - val_acc: 0.7450\n",
      "Epoch 37/90\n",
      "50/50 [==============================] - 32s 642ms/step - loss: 0.0165 - acc: 0.9960 - val_loss: 1.7544 - val_acc: 0.7320\n",
      "Epoch 38/90\n",
      "50/50 [==============================] - 33s 658ms/step - loss: 2.8680e-04 - acc: 1.0000 - val_loss: 1.7264 - val_acc: 0.7360\n",
      "Epoch 39/90\n",
      "50/50 [==============================] - 31s 630ms/step - loss: 0.0158 - acc: 0.9970 - val_loss: 1.7381 - val_acc: 0.7300\n",
      "Epoch 40/90\n",
      "50/50 [==============================] - 32s 636ms/step - loss: 4.2661e-04 - acc: 1.0000 - val_loss: 1.7258 - val_acc: 0.7350\n",
      "Epoch 41/90\n",
      "50/50 [==============================] - 32s 642ms/step - loss: 0.0217 - acc: 0.9945 - val_loss: 1.7161 - val_acc: 0.7360\n",
      "Epoch 42/90\n",
      "50/50 [==============================] - 32s 647ms/step - loss: 2.2807e-04 - acc: 1.0000 - val_loss: 1.7101 - val_acc: 0.7420\n",
      "Epoch 43/90\n",
      "50/50 [==============================] - 32s 642ms/step - loss: 1.0944e-04 - acc: 1.0000 - val_loss: 1.8349 - val_acc: 0.7370\n",
      "Epoch 44/90\n",
      "50/50 [==============================] - 32s 647ms/step - loss: 0.0112 - acc: 0.9970 - val_loss: 1.7643 - val_acc: 0.7330\n",
      "Epoch 45/90\n",
      "50/50 [==============================] - 32s 645ms/step - loss: 1.1790e-04 - acc: 1.0000 - val_loss: 1.8622 - val_acc: 0.7400\n",
      "Epoch 46/90\n",
      "50/50 [==============================] - 32s 642ms/step - loss: 0.0169 - acc: 0.9960 - val_loss: 1.8106 - val_acc: 0.7390\n",
      "Epoch 47/90\n",
      "50/50 [==============================] - 33s 661ms/step - loss: 9.3525e-05 - acc: 1.0000 - val_loss: 1.8832 - val_acc: 0.7350\n",
      "Epoch 48/90\n",
      "50/50 [==============================] - 32s 632ms/step - loss: 0.0213 - acc: 0.9940 - val_loss: 1.9357 - val_acc: 0.7330\n",
      "Epoch 49/90\n",
      "50/50 [==============================] - 31s 628ms/step - loss: 1.1364e-04 - acc: 1.0000 - val_loss: 1.9349 - val_acc: 0.7390\n",
      "Epoch 50/90\n",
      "50/50 [==============================] - 32s 636ms/step - loss: 0.0047 - acc: 0.9980 - val_loss: 1.9688 - val_acc: 0.7390\n",
      "Epoch 51/90\n",
      "50/50 [==============================] - 32s 635ms/step - loss: 1.5152e-04 - acc: 1.0000 - val_loss: 1.9455 - val_acc: 0.7410\n",
      "Epoch 52/90\n",
      "50/50 [==============================] - 31s 627ms/step - loss: 0.0224 - acc: 0.9950 - val_loss: 1.9592 - val_acc: 0.7340\n",
      "Epoch 53/90\n",
      "50/50 [==============================] - 32s 634ms/step - loss: 2.3711e-04 - acc: 1.0000 - val_loss: 1.9278 - val_acc: 0.7390\n",
      "Epoch 54/90\n",
      "50/50 [==============================] - 33s 662ms/step - loss: 6.3741e-05 - acc: 1.0000 - val_loss: 2.0028 - val_acc: 0.7380\n",
      "Epoch 55/90\n",
      "50/50 [==============================] - 32s 642ms/step - loss: 0.0142 - acc: 0.9970 - val_loss: 1.9420 - val_acc: 0.7300\n",
      "Epoch 56/90\n",
      "50/50 [==============================] - 32s 636ms/step - loss: 6.9949e-05 - acc: 1.0000 - val_loss: 1.9703 - val_acc: 0.7360\n",
      "Epoch 57/90\n",
      "50/50 [==============================] - 32s 646ms/step - loss: 0.0322 - acc: 0.9900 - val_loss: 1.9392 - val_acc: 0.7180\n",
      "Epoch 58/90\n",
      "50/50 [==============================] - 32s 635ms/step - loss: 2.3826e-04 - acc: 1.0000 - val_loss: 1.9424 - val_acc: 0.7330\n",
      "Epoch 59/90\n",
      "50/50 [==============================] - 32s 634ms/step - loss: 5.3668e-05 - acc: 1.0000 - val_loss: 2.0275 - val_acc: 0.7360\n",
      "Epoch 60/90\n",
      "50/50 [==============================] - 32s 635ms/step - loss: 0.0336 - acc: 0.9915 - val_loss: 2.0837 - val_acc: 0.7220\n",
      "Epoch 61/90\n"
     ]
    },
    {
     "name": "stdout",
     "output_type": "stream",
     "text": [
      "50/50 [==============================] - 31s 630ms/step - loss: 8.6568e-05 - acc: 1.0000 - val_loss: 2.0410 - val_acc: 0.7310\n",
      "Epoch 62/90\n",
      "50/50 [==============================] - 32s 646ms/step - loss: 2.6069e-05 - acc: 1.0000 - val_loss: 2.1133 - val_acc: 0.7440\n",
      "Epoch 63/90\n",
      "50/50 [==============================] - 33s 657ms/step - loss: 0.0199 - acc: 0.9945 - val_loss: 2.1333 - val_acc: 0.7200\n",
      "Epoch 64/90\n",
      "50/50 [==============================] - 33s 653ms/step - loss: 8.6476e-05 - acc: 1.0000 - val_loss: 2.0994 - val_acc: 0.7330\n",
      "Epoch 65/90\n",
      "50/50 [==============================] - 32s 634ms/step - loss: 2.6720e-05 - acc: 1.0000 - val_loss: 2.1345 - val_acc: 0.7410\n",
      "Epoch 66/90\n",
      "50/50 [==============================] - 32s 648ms/step - loss: 0.0251 - acc: 0.9945 - val_loss: 2.1642 - val_acc: 0.7340\n",
      "Epoch 67/90\n",
      "50/50 [==============================] - 32s 649ms/step - loss: 7.7773e-05 - acc: 1.0000 - val_loss: 2.1512 - val_acc: 0.7330\n",
      "Epoch 68/90\n",
      "50/50 [==============================] - 33s 660ms/step - loss: 2.2976e-05 - acc: 1.0000 - val_loss: 2.2245 - val_acc: 0.7370\n",
      "Epoch 69/90\n",
      "50/50 [==============================] - 32s 644ms/step - loss: 0.0283 - acc: 0.9940 - val_loss: 2.1714 - val_acc: 0.7260\n",
      "Epoch 70/90\n",
      "50/50 [==============================] - 33s 660ms/step - loss: 6.3759e-05 - acc: 1.0000 - val_loss: 2.1707 - val_acc: 0.7280\n",
      "Epoch 71/90\n",
      "50/50 [==============================] - 32s 636ms/step - loss: 1.8533e-05 - acc: 1.0000 - val_loss: 2.2547 - val_acc: 0.7310\n",
      "Epoch 72/90\n",
      "50/50 [==============================] - 32s 631ms/step - loss: 0.0055 - acc: 0.9975 - val_loss: 2.2336 - val_acc: 0.7260\n",
      "Epoch 73/90\n",
      "50/50 [==============================] - 32s 636ms/step - loss: 3.2611e-05 - acc: 1.0000 - val_loss: 2.2075 - val_acc: 0.7360\n",
      "Epoch 74/90\n",
      "50/50 [==============================] - 31s 625ms/step - loss: 0.0034 - acc: 0.9985 - val_loss: 2.2778 - val_acc: 0.7360\n",
      "Epoch 75/90\n",
      "50/50 [==============================] - 32s 639ms/step - loss: 6.1465e-05 - acc: 1.0000 - val_loss: 2.2270 - val_acc: 0.7370\n",
      "Epoch 76/90\n",
      "50/50 [==============================] - 32s 646ms/step - loss: 1.7701e-05 - acc: 1.0000 - val_loss: 2.2939 - val_acc: 0.7350\n",
      "Epoch 77/90\n",
      "50/50 [==============================] - 32s 649ms/step - loss: 0.0286 - acc: 0.9955 - val_loss: 2.1892 - val_acc: 0.7230\n",
      "Epoch 78/90\n",
      "50/50 [==============================] - 32s 633ms/step - loss: 4.7425e-05 - acc: 1.0000 - val_loss: 2.2139 - val_acc: 0.7280\n",
      "Epoch 79/90\n",
      "50/50 [==============================] - 32s 634ms/step - loss: 1.3676e-05 - acc: 1.0000 - val_loss: 2.3000 - val_acc: 0.7280\n",
      "Epoch 80/90\n",
      "50/50 [==============================] - 32s 650ms/step - loss: 0.0215 - acc: 0.9965 - val_loss: 2.2412 - val_acc: 0.7260\n",
      "Epoch 81/90\n",
      "50/50 [==============================] - 32s 640ms/step - loss: 4.2523e-05 - acc: 1.0000 - val_loss: 2.2277 - val_acc: 0.7300\n",
      "Epoch 82/90\n",
      "50/50 [==============================] - 32s 639ms/step - loss: 1.0712e-05 - acc: 1.0000 - val_loss: 2.3218 - val_acc: 0.7340\n",
      "Epoch 83/90\n",
      "50/50 [==============================] - 33s 666ms/step - loss: 0.0206 - acc: 0.9945 - val_loss: 2.3805 - val_acc: 0.7200\n",
      "Epoch 84/90\n",
      "50/50 [==============================] - 33s 661ms/step - loss: 8.5381e-05 - acc: 1.0000 - val_loss: 2.3233 - val_acc: 0.7350\n",
      "Epoch 85/90\n",
      "50/50 [==============================] - 32s 641ms/step - loss: 1.3911e-05 - acc: 1.0000 - val_loss: 2.3396 - val_acc: 0.7380\n",
      "Epoch 86/90\n",
      "50/50 [==============================] - 34s 678ms/step - loss: 0.0184 - acc: 0.9960 - val_loss: 2.3953 - val_acc: 0.7290\n",
      "Epoch 87/90\n",
      "50/50 [==============================] - 33s 655ms/step - loss: 6.4240e-05 - acc: 1.0000 - val_loss: 2.3221 - val_acc: 0.7360\n",
      "Epoch 88/90\n",
      "50/50 [==============================] - 33s 650ms/step - loss: 8.1752e-06 - acc: 1.0000 - val_loss: 2.3486 - val_acc: 0.7350\n",
      "Epoch 89/90\n",
      "50/50 [==============================] - 33s 659ms/step - loss: 0.0099 - acc: 0.9980 - val_loss: 2.4301 - val_acc: 0.7300\n",
      "Epoch 90/90\n",
      "50/50 [==============================] - 32s 646ms/step - loss: 3.0064e-04 - acc: 1.0000 - val_loss: 2.3273 - val_acc: 0.7300\n"
     ]
    }
   ],
   "source": [
    "history = model.fit_generator(train_generator,\\\n",
    "                              steps_per_epoch=50,epochs=90,\\\n",
    "                              validation_data=validation_generator,validation_steps=25)\n"
   ]
  },
  {
   "cell_type": "code",
   "execution_count": 15,
   "metadata": {},
   "outputs": [],
   "source": [
    "model.save('cats_and_dogs_standard_attempt.h5')"
   ]
  },
  {
   "cell_type": "code",
   "execution_count": 14,
   "metadata": {},
   "outputs": [
    {
     "data": {
      "image/png": "[encoded data removed]",
      "text/plain": [
       "<Figure size 432x288 with 1 Axes>"
      ]
     },
     "metadata": {
      "needs_background": "light"
     },
     "output_type": "display_data"
    },
    {
     "data": {
      "image/png": "[encoded data removed]",
      "text/plain": [
       "<Figure size 432x288 with 1 Axes>"
      ]
     },
     "metadata": {
      "needs_background": "light"
     },
     "output_type": "display_data"
    }
   ],
   "source": [
    "import matplotlib.pyplot as plt\n",
    "acc = history.history['acc']\n",
    "val_acc = history.history['val_acc']\n",
    "loss = history.history['loss']\n",
    "val_loss = history.history['val_loss']\n",
    "epochs = range(1, len(acc)+1)\n",
    "\n",
    "plt.plot(epochs, acc, 'o', label = 'acc')\n",
    "plt.plot(epochs, val_acc, label = 'val_acc')\n",
    "plt.legend()\n",
    "\n",
    "plt.figure()\n",
    "\n",
    "plt.plot(epochs, loss, 'o', label = 'loss')\n",
    "plt.plot(epochs, val_loss, label = 'val_loss')\n",
    "plt.legend()\n",
    "plt.show()\n",
    "\n",
    "# It's quite obvious experimentally that validation accuracy drops slower than validation loss \n",
    "# (even corrected exponentially, after which the difference is not stark but still tangible). "
   ]
  },
  {
   "cell_type": "code",
   "execution_count": null,
   "metadata": {},
   "outputs": [],
   "source": []
  }
 ],
 "metadata": {
  "kernelspec": {
   "display_name": "Python 3",
   "language": "python",
   "name": "python3"
  },
  "language_info": {
   "codemirror_mode": {
    "name": "ipython",
    "version": 3
   },
   "file_extension": ".py",
   "mimetype": "text/x-python",
   "name": "python",
   "nbconvert_exporter": "python",
   "pygments_lexer": "ipython3",
   "version": "3.7.7"
  }
 },
 "nbformat": 4,
 "nbformat_minor": 4
}
